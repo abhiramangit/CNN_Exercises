{
  "nbformat": 4,
  "nbformat_minor": 0,
  "metadata": {
    "colab": {
      "name": "MNIST_Problem_PyTorch.ipynb",
      "provenance": [],
      "collapsed_sections": [],
      "authorship_tag": "ABX9TyOJINcG2T51Cp68ideCc3r7",
      "include_colab_link": true
    },
    "kernelspec": {
      "name": "python3",
      "display_name": "Python 3"
    },
    "accelerator": "GPU"
  },
  "cells": [
    {
      "cell_type": "markdown",
      "metadata": {
        "id": "view-in-github",
        "colab_type": "text"
      },
      "source": [
        "<a href=\"https://colab.research.google.com/github/abhiramangit/CNN_Exercises/blob/master/MNIST_Problem_PyTorch.ipynb\" target=\"_parent\"><img src=\"https://colab.research.google.com/assets/colab-badge.svg\" alt=\"Open In Colab\"/></a>"
      ]
    },
    {
      "cell_type": "code",
      "metadata": {
        "id": "JhW4_SzMZrDG",
        "colab_type": "code",
        "colab": {}
      },
      "source": [
        "import torch\n",
        "import matplotlib.pyplot as plt\n",
        "import numpy as np\n",
        "import torch.nn as nn\n",
        "import torchvision\n",
        "import torchvision.transforms as transforms\n",
        "from torch import optim\n"
      ],
      "execution_count": 0,
      "outputs": []
    },
    {
      "cell_type": "code",
      "metadata": {
        "id": "cBECbYVMbF_7",
        "colab_type": "code",
        "colab": {}
      },
      "source": [
        "batc_size = 128"
      ],
      "execution_count": 0,
      "outputs": []
    },
    {
      "cell_type": "code",
      "metadata": {
        "id": "D7iuTc6KaFLt",
        "colab_type": "code",
        "colab": {}
      },
      "source": [
        "## Download MNIST dataset into colab storage \n",
        "train_set_download = torchvision.datasets.MNIST('./data',train=True,transform=transforms.ToTensor(),download=True)\n",
        "train_set_loader = torch.utils.data.DataLoader(train_set_download,batch_size=batc_size,shuffle=True)\n",
        "test_set_download = torchvision.datasets.MNIST('./data',train=False,transform=transforms.ToTensor(),download=True)\n",
        "test_set_loader = torch.utils.data.DataLoader(test_set_download,batc_size,shuffle=False)"
      ],
      "execution_count": 0,
      "outputs": []
    },
    {
      "cell_type": "code",
      "metadata": {
        "id": "CgX4U87Tb3pt",
        "colab_type": "code",
        "outputId": "f9bc9a7f-f887-4e50-d645-b4fcb62b1963",
        "colab": {
          "base_uri": "https://localhost:8080/",
          "height": 34
        }
      },
      "source": [
        "## Verifying Shape of single batch\n",
        "data_iter = iter(train_set_loader)\n",
        "inputs,labels = data_iter.next()\n",
        "print(inputs.shape,labels.shape)\n",
        "## Images are Single Channel (Black-White Images)"
      ],
      "execution_count": 0,
      "outputs": [
        {
          "output_type": "stream",
          "text": [
            "torch.Size([128, 1, 28, 28]) torch.Size([128])\n"
          ],
          "name": "stdout"
        }
      ]
    },
    {
      "cell_type": "code",
      "metadata": {
        "id": "9noSBWEhiJOm",
        "colab_type": "code",
        "colab": {}
      },
      "source": [
        "classes = [\"Zero\",\"One\",\"Two\",\"Three\",\"Four\",\"Five\",\"Six\",\"Seven\",\"Eight\",\"Nine\"]"
      ],
      "execution_count": 0,
      "outputs": []
    },
    {
      "cell_type": "code",
      "metadata": {
        "id": "TGBYtF-7ccKC",
        "colab_type": "code",
        "outputId": "52783d08-8ad2-4895-83ba-6b9597830af3",
        "colab": {
          "base_uri": "https://localhost:8080/",
          "height": 260
        }
      },
      "source": [
        "## Visualizing some Data \n",
        "def image_show(iter,fig,sample_size,img,labels,classes):\n",
        "  img_to_numpy = img.numpy()\n",
        "  img_to_numpy = img_to_numpy.transpose(2,1,0)\n",
        "  fig.add_subplot(2,5,iter+1)\n",
        "  plt.imshow(img_to_numpy[:,:,-1])\n",
        "  plt.title(classes[labels[i].item()])\n",
        "  #plt.show()\n",
        "\n",
        "fig1 = plt.figure(figsize=(5,5))\n",
        "\n",
        "sample_size = 10\n",
        "for i in range(sample_size):\n",
        "  few_sample_imgs = inputs[i]\n",
        "  image_show(i,fig1,sample_size,few_sample_imgs,labels,classes)\n"
      ],
      "execution_count": 0,
      "outputs": [
        {
          "output_type": "display_data",
          "data": {
            "image/png": "[encoded data removed]",
            "text/plain": [
              "<Figure size 360x360 with 10 Axes>"
            ]
          },
          "metadata": {
            "tags": [],
            "needs_background": "light"
          }
        }
      ]
    },
    {
      "cell_type": "code",
      "metadata": {
        "id": "8-NFuSuO9NDC",
        "colab_type": "code",
        "outputId": "a58b307c-c6ec-45f5-b55a-31bd57afbe6d",
        "colab": {
          "base_uri": "https://localhost:8080/",
          "height": 51
        }
      },
      "source": [
        "## Add inputs & labels into GPU device \n",
        "print(torch.cuda.device_count())\n",
        "device = torch.device('cuda:0' if torch.cuda.is_available else \"cpu\")\n",
        "print(device)"
      ],
      "execution_count": 5,
      "outputs": [
        {
          "output_type": "stream",
          "text": [
            "1\n",
            "cuda:0\n"
          ],
          "name": "stdout"
        }
      ]
    },
    {
      "cell_type": "code",
      "metadata": {
        "id": "Kgbfvh9H98O4",
        "colab_type": "code",
        "colab": {}
      },
      "source": [
        "images_in_gpu,labels_in_gpu = inputs.to(device),labels.to(device)\n"
      ],
      "execution_count": 0,
      "outputs": []
    },
    {
      "cell_type": "code",
      "metadata": {
        "id": "B2ZkO1iq-P2T",
        "colab_type": "code",
        "colab": {}
      },
      "source": [
        "## CNN Model \n",
        "class MNIST_Model(nn.Module):\n",
        "  def __init__(self):\n",
        "    super().__init__()\n",
        "    self.CNN_network = nn.Sequential(\n",
        "        nn.Conv2d(1,6,3,stride=1,padding=(1,1)),      ## (N,1,28,28) -> (N,6,28,28)\n",
        "        nn.ReLU(),        ## (N,6,28,28)\n",
        "        nn.AvgPool2d(2,2),      ## (N,6,14,14)\n",
        "        nn.Conv2d(6,16,3),       ## (N,6,14,14) -> (N,16,12,12)\n",
        "        nn.ReLU(),      ## (N,16,12,12)\n",
        "        nn.AvgPool2d(2,2)       ##(N,16,6,6)    \n",
        "    )\n",
        "    self.fully_connected_layer = nn.Sequential(\n",
        "        nn.Linear(576,256),\n",
        "        nn.ReLU(),\n",
        "        nn.Linear(256,120),\n",
        "        nn.ReLU(),\n",
        "        nn.Linear(120,10)\n",
        "    )\n",
        "  \n",
        "  def forward(self,X):\n",
        "    X_Cnn = self.CNN_network(X)\n",
        "   # print(X_Cnn.shape )\n",
        "    X_for_fc = X_Cnn.view(X_Cnn.shape[0],-1)\n",
        "    #print(X_for_fc.shape)\n",
        "    X_fc = self.fully_connected_layer(X_for_fc)\n",
        "    #print(X_fc.shape)\n",
        "    return X_fc\n"
      ],
      "execution_count": 0,
      "outputs": []
    },
    {
      "cell_type": "code",
      "metadata": {
        "id": "EX_R6xIm24mn",
        "colab_type": "code",
        "colab": {}
      },
      "source": [
        "net = MNIST_Model().to(device)"
      ],
      "execution_count": 0,
      "outputs": []
    },
    {
      "cell_type": "code",
      "metadata": {
        "id": "0v__1-Yv6WGq",
        "colab_type": "code",
        "colab": {}
      },
      "source": [
        "def Evaluation(data_set_loader):\n",
        "\n",
        "  correct,total = 0,0\n",
        "  for batch_img_label in data_set_loader:\n",
        "    img_inputs,labels = batch_img_label\n",
        "    img_inputs,labels = img_inputs.to(device),labels.to(device)\n",
        "    out_of_each_batch = net(img_inputs)     ## (N,10)\n",
        "    _,pred_class = torch.max(out_of_each_batch,1)\n",
        "    correct+=(pred_class==labels).sum().item()\n",
        "    total+= out_of_each_batch.shape[0]\n",
        "  #print(\"correct\",correct)\n",
        "  return (correct*100)/total"
      ],
      "execution_count": 0,
      "outputs": []
    },
    {
      "cell_type": "code",
      "metadata": {
        "id": "JEfkcaLiQZb5",
        "colab_type": "code",
        "colab": {}
      },
      "source": [
        "## Download MNIST dataset into colab storage \n",
        "train_set_download = torchvision.datasets.MNIST('./data',train=True,transform=transforms.ToTensor(),download=True)\n",
        "train_set_loader = torch.utils.data.DataLoader(train_set_download,batch_size=batc_size,shuffle=True)\n",
        "test_set_download = torchvision.datasets.MNIST('./data',train=False,transform=transforms.ToTensor(),download=True)\n",
        "test_set_loader = torch.utils.data.DataLoader(test_set_download,batc_size,shuffle=False)"
      ],
      "execution_count": 0,
      "outputs": []
    },
    {
      "cell_type": "code",
      "metadata": {
        "id": "Nl0mv4piIwsE",
        "colab_type": "code",
        "colab": {}
      },
      "source": [
        "optim_fn = optim.Adam(net.parameters())\n",
        "loss_fn = nn.CrossEntropyLoss()\n",
        "epochs = 20"
      ],
      "execution_count": 0,
      "outputs": []
    },
    {
      "cell_type": "code",
      "metadata": {
        "id": "5QN84g6e849v",
        "colab_type": "code",
        "outputId": "a0600de3-0e2c-421c-a128-ea3add27df96",
        "colab": {
          "base_uri": "https://localhost:8080/",
          "height": 607
        }
      },
      "source": [
        "#def MNIST_data_Train(data_set_loader,model=None,epochs=100,loss_fn = None, optim_fn = None):\n",
        "loss_arr_per_batch = [] \n",
        "loss_arr_per_epoch = []\n",
        "\n",
        "for e_epoch in range(epochs):\n",
        "  for i,inp_imgs in enumerate(train_set_loader):\n",
        "    imgs,labels = inp_imgs\n",
        "    imgs,labels = imgs.to(device),labels.to(device)\n",
        "\n",
        "    ## Forward Pass for each batchsize\n",
        "    outputs = net(imgs)\n",
        "    ## Compute Loss\n",
        "    loss = loss_fn(outputs,labels)\n",
        "    ## Backward Pass\n",
        "    loss.backward()\n",
        "    ## Updating Gradients\n",
        "    optim_fn.step()\n",
        "\n",
        "    ## Resetting the Gradients\n",
        "    optim_fn.zero_grad()\n",
        "\n",
        "    loss_arr_per_batch.append(loss.item())\n",
        "  \n",
        "  loss_arr_per_epoch.append(loss.item())\n",
        "\n",
        "  print(\"Epoch {}/{}, Train_Accuracy: {} & Test_Accuracy:{}\".format(e_epoch,epochs,Evaluation(train_set_loader),Evaluation(test_set_loader)))\n",
        "\n",
        "plt.plot(loss_arr_per_epoch)\n",
        "plt.show()\n",
        "  "
      ],
      "execution_count": 22,
      "outputs": [
        {
          "output_type": "stream",
          "text": [
            "Epoch 0/20, Train_Accuracy: 94.52333333333333 & Test_Accuracy:94.61\n",
            "Epoch 1/20, Train_Accuracy: 96.73166666666667 & Test_Accuracy:96.74\n",
            "Epoch 2/20, Train_Accuracy: 97.57166666666667 & Test_Accuracy:97.6\n",
            "Epoch 3/20, Train_Accuracy: 98.15833333333333 & Test_Accuracy:98.0\n",
            "Epoch 4/20, Train_Accuracy: 98.46833333333333 & Test_Accuracy:98.31\n",
            "Epoch 5/20, Train_Accuracy: 98.83666666666667 & Test_Accuracy:98.58\n",
            "Epoch 6/20, Train_Accuracy: 98.805 & Test_Accuracy:98.48\n",
            "Epoch 7/20, Train_Accuracy: 98.86666666666666 & Test_Accuracy:98.46\n",
            "Epoch 8/20, Train_Accuracy: 99.11666666666666 & Test_Accuracy:98.6\n",
            "Epoch 9/20, Train_Accuracy: 99.15333333333334 & Test_Accuracy:98.71\n",
            "Epoch 10/20, Train_Accuracy: 99.21833333333333 & Test_Accuracy:98.71\n",
            "Epoch 11/20, Train_Accuracy: 99.38 & Test_Accuracy:98.79\n",
            "Epoch 12/20, Train_Accuracy: 99.485 & Test_Accuracy:98.67\n",
            "Epoch 13/20, Train_Accuracy: 99.65333333333334 & Test_Accuracy:98.91\n",
            "Epoch 14/20, Train_Accuracy: 99.69666666666667 & Test_Accuracy:98.93\n",
            "Epoch 15/20, Train_Accuracy: 99.625 & Test_Accuracy:98.83\n",
            "Epoch 16/20, Train_Accuracy: 99.62166666666667 & Test_Accuracy:98.83\n",
            "Epoch 17/20, Train_Accuracy: 99.78333333333333 & Test_Accuracy:98.79\n",
            "Epoch 18/20, Train_Accuracy: 99.65833333333333 & Test_Accuracy:98.71\n",
            "Epoch 19/20, Train_Accuracy: 99.78833333333333 & Test_Accuracy:98.78\n"
          ],
          "name": "stdout"
        },
        {
          "output_type": "display_data",
          "data": {
            "image/png": "[encoded data removed]",
            "text/plain": [
              "<Figure size 432x288 with 1 Axes>"
            ]
          },
          "metadata": {
            "tags": [],
            "needs_background": "light"
          }
        }
      ]
    },
    {
      "cell_type": "code",
      "metadata": {
        "id": "FqH3ggFDTMdU",
        "colab_type": "code",
        "colab": {}
      },
      "source": [
        "def predict_classes(train_set_loader):\n",
        "  for i,data in enumerate(train_set_loader):\n",
        "    if i ==0:\n",
        "      inputs,labels = data\n",
        "      inputs,labels = inputs.to(device),labels.to(device)\n",
        "      outputs = net(inputs)\n",
        "      class_name = torch.max(outputs,dim=1)[1].to(\"cpu\").numpy()\n",
        "      class_name = [classes[val] for val in class_name]\n",
        "\n",
        "      inputs = inputs.to(\"cpu\")\n",
        "    return class_name,inputs"
      ],
      "execution_count": 0,
      "outputs": []
    },
    {
      "cell_type": "code",
      "metadata": {
        "id": "c91XkerFTQ3z",
        "colab_type": "code",
        "colab": {}
      },
      "source": [
        "def plot_image_and_class(batch_size,train_set_loader):\n",
        "  rows = 16\n",
        "  columns = batch_size/rows\n",
        "  classes_names_pred , inputs_images = predict_classes(train_set_loader)\n",
        "  fig = plt.figure(figsize=(50,50))\n",
        "  fig.subplots_adjust(hspace=0.5,wspace=0.5)  \n",
        "  \n",
        "  for i,img in enumerate(inputs_images):\n",
        "    img_transpose = img.numpy().transpose(2,1,0)\n",
        "    img_modified = img_transpose[:,:,-1]\n",
        "    fig.add_subplot(rows,columns,i+1)\n",
        "    plt.imshow(img_modified)\n",
        "    plt.title(classes_names_pred[i],{'fontsize':16})\n",
        "  plt.show()\n"
      ],
      "execution_count": 0,
      "outputs": []
    },
    {
      "cell_type": "code",
      "metadata": {
        "id": "zKygtUjhTWK9",
        "colab_type": "code",
        "colab": {}
      },
      "source": [
        "plot_image_and_class(batc_size,test_set_loader)"
      ],
      "execution_count": 0,
      "outputs": []
    }
  ]
}